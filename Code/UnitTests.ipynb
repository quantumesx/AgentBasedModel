{
 "cells": [
  {
   "cell_type": "markdown",
   "metadata": {},
   "source": [
    "# Unit Tests\n",
    "This script contains validation test for each of the python modules, including:\n",
    "- Environment\n",
    "- Robot\n",
    "- Sensor\n",
    "- Controller\n",
    "- Actuator\n",
    "- Selection\n",
    "- Visualization"
   ]
  },
  {
   "cell_type": "markdown",
   "metadata": {},
   "source": [
    "trial:\n",
    "- initialize environment\n",
    "    - targets\n",
    "    \n",
    "- initialize agents (4 agents)\n",
    "    - sensor, actuators\n",
    "    - networks\n",
    "\n",
    "for i in timesteps:  \n",
    "\n",
    "        for a in agents:\n",
    "                1. agent location and orientation - sensor readings\n",
    "                2. sensor readings - network input\n",
    "                3. network input - network output\n",
    "                4. network output - actuator input\n",
    "                5. actuator input - agent movement\n",
    "                6. update agent location and orientation\n",
    "                7. store all information for the current trials\n",
    "\n",
    "animate trial:\n",
    "- target\n",
    "- position and location of the agent at every timestep"
   ]
  },
  {
   "cell_type": "code",
   "execution_count": 2,
   "metadata": {},
   "outputs": [
    {
     "data": {
      "text/plain": [
       "[[(80, 80), 35], [(190, 190), 35], [(80, 80), 35], [(190, 190), 35]]"
      ]
     },
     "execution_count": 2,
     "metadata": {},
     "output_type": "execute_result"
    }
   ],
   "source": [
    "from Environment import environment\n",
    "\n",
    "env = environment()\n",
    "env.initialize_targets()\n",
    "env.show()\n",
    "env.targets"
   ]
  },
  {
   "cell_type": "code",
   "execution_count": 4,
   "metadata": {},
   "outputs": [
    {
     "data": {
      "text/plain": [
       "[[(80, 80), 35], [(190, 190), 35]]"
      ]
     },
     "execution_count": 4,
     "metadata": {},
     "output_type": "execute_result"
    }
   ],
   "source": []
  },
  {
   "cell_type": "markdown",
   "metadata": {},
   "source": [
    "agent loc and orientation - sensor readings:\n",
    "- IR sensor  \n",
    "\n",
    "    input:\n",
    "    - agent location and orientation\n",
    "    - environment (height & width)\n",
    "    - location and r of other agents\n",
    "    \n",
    "    for each IR sensor:\n",
    "    1. get IR loc and IR orientation from agent loc and agent orientation\n",
    "    2. check for wall \n",
    "    3. check for other agents\n",
    "    4. compare readings, take the greater among all\n",
    " \n",
    "\n",
    "- Ground sensor\n",
    "    \n",
    "    input:\n",
    "    - agent location and orientation\n",
    "    - location and r of all targets (env.targets)\n",
    "    \n",
    "    for each ground sensor:\n",
    "    1. get ground sensor location\n",
    "    2. check if in each target area\n",
    "    3. if yes, reading = 1; else reading = 0\n",
    "\n",
    "- comm sensor\n",
    "    input:\n",
    "    - agent location and orientation\n",
    "    - location an r of other agents\n",
    "    \n",
    "    1. get comm sensor loc and orientation\n",
    "    2. check for the location of each other agent\n",
    "    3. if an agent is within range, check that agent's comm unit output\n",
    "    4. "
   ]
  },
  {
   "cell_type": "markdown",
   "metadata": {},
   "source": [
    "- IR sensor  \n",
    "\n",
    "    input:\n",
    "    - agent location and orientation\n",
    "    - environment (height & width)\n",
    "    - location and r of other agents\n",
    "    \n",
    "    for each IR sensor:\n",
    "    1. get IR loc and IR orientation from agent loc and agent orientation\n",
    "    2. check for wall \n",
    "    3. check for other agents\n",
    "    4. compare readings, take the greater among all"
   ]
  },
  {
   "cell_type": "code",
   "execution_count": 3,
   "metadata": {},
   "outputs": [],
   "source": [
    "def get_ir_loc(agent_loc, agent_ang, ir_placement):\n",
    "    \"\"\"Get location of IR sensor.\"\"\"\n",
    "    ang = norm_ang(ir_placement.ang+agent_ang)\n",
    "    loc = find_loc(agent_loc, ang, ir_placement.distance)\n",
    "    \n",
    "    return loc, ang\n",
    "\n",
    "\n",
    "def check_wall(environment, ir_loc, ir_ang):\n",
    "    \"\"\"\n",
    "    Check reading due to wall.\n",
    "    \n",
    "    Logic:\n",
    "    1. Find the maximum point within range of signal detection (range_max)\n",
    "    2. See whether this point goes beyond the width and height of the environment.\n",
    "    3. If it does, that means a wall is within range of detection.\n",
    "    4. Calculate distance between IR sensor and the closest point to wall.\n",
    "    5. IR sensor reading is the the ratio between this distance and the max range of detection.\n",
    "    \"\"\"\n",
    "    range_max = find_loc(loc, ang, ir_range)\n",
    "    if range_max[0] < 0 or range_max[0] > width:\n",
    "        distance = loc[0]/abs(range_max[0]-loc[0])\n",
    "    elif range_max[1] < 0 or range_max[0] > height:\n",
    "        distance = loc[1]/abs(range_max[1]-loc[1])\n",
    "\n",
    "    else:\n",
    "        distance = 1\n",
    "\n",
    "    reading = 1-distance\n",
    "    \n",
    "    return reading\n",
    "    \n",
    "\n",
    "def check_agent(agents):\n",
    "    \"\"\"\n",
    "    Check reading due to other agents.\n",
    "    \n",
    "    Logic:\n",
    "    1. \n",
    "    \n",
    "    \n",
    "    \"\"\"\n",
    "    \n",
    "\n",
    "\n",
    "def get_ir_reading(loc, ang, ir_range, agents):\n",
    "    \"\"\"\n",
    "    Get reading in response to obstacle, including wall and other agents.\n",
    "    The closer the distance, the higher the reading.\n",
    "\n",
    "    Method:\n",
    "    - 1. check for wall (write this first)\n",
    "        - find intersect with the wall it's facing\n",
    "        - check if distance is less than ir_range\n",
    "        - right now, linear scaling\n",
    "    - 2. check for other agents\n",
    "        - for each of the other agents, check if center is within range\n",
    "        - if so, check distance\n",
    "    \"\"\"\n",
    "    # check for wall\n",
    "    tip = find_loc(loc, ang, ir_range)\n",
    "    if tip[0] <= 0:\n",
    "        distance = loc[0]/abs(tip[0]-loc[0])\n",
    "    elif tip[1] <= 0:\n",
    "        distance = loc[1]/abs(tip[1]-loc[1])\n",
    "\n",
    "    else:\n",
    "        distance = 1\n",
    "\n",
    "    wall_reading = 1-distance\n",
    "\n",
    "    # check for agent\n",
    "    for a in agents:\n",
    "        # distance = agents.loc[0]\n",
    "        pass\n",
    "\n",
    "    reading = wall_reading\n",
    "\n",
    "    return reading"
   ]
  },
  {
   "cell_type": "code",
   "execution_count": 4,
   "metadata": {},
   "outputs": [],
   "source": [
    "from Helper import find_ang, find_loc, get_distance"
   ]
  },
  {
   "cell_type": "code",
   "execution_count": 5,
   "metadata": {},
   "outputs": [],
   "source": [
    "ir = ((10, 10), 90, 10)\n",
    "tip = find_loc(ir[0], ir[1], ir[2])"
   ]
  },
  {
   "cell_type": "code",
   "execution_count": 6,
   "metadata": {},
   "outputs": [],
   "source": [
    "c1 = ((20, 30), 6)\n",
    "c2 = ((15, 8), 6)\n",
    "c3 = ((13, 13), 6)"
   ]
  },
  {
   "cell_type": "code",
   "execution_count": 7,
   "metadata": {},
   "outputs": [],
   "source": [
    "import math"
   ]
  },
  {
   "cell_type": "code",
   "execution_count": 8,
   "metadata": {},
   "outputs": [],
   "source": [
    "# c1\n",
    "\n",
    "a = get_distance(ir[0], c1[0])\n",
    "b = get_distance(tip, c1[0])\n",
    "c = get_distance(ir[0], tip)"
   ]
  },
  {
   "cell_type": "code",
   "execution_count": 9,
   "metadata": {},
   "outputs": [
    {
     "name": "stdout",
     "output_type": "stream",
     "text": [
      "22.360679774997898 14.142135623730951 10.0\n"
     ]
    }
   ],
   "source": [
    "print(a, b, c)"
   ]
  },
  {
   "cell_type": "code",
   "execution_count": 10,
   "metadata": {},
   "outputs": [
    {
     "name": "stdout",
     "output_type": "stream",
     "text": [
      "(10, 10) (10.0, 20.0) (20, 30)\n"
     ]
    }
   ],
   "source": [
    "print(ir[0], tip, c1[0])"
   ]
  },
  {
   "cell_type": "code",
   "execution_count": 14,
   "metadata": {},
   "outputs": [
    {
     "data": {
      "text/plain": [
       "0.5911271172152932"
      ]
     },
     "execution_count": 14,
     "metadata": {},
     "output_type": "execute_result"
    }
   ],
   "source": [
    "math.sin(x)"
   ]
  },
  {
   "cell_type": "code",
   "execution_count": 15,
   "metadata": {},
   "outputs": [
    {
     "data": {
      "text/plain": [
       "33.86908897217141"
      ]
     },
     "execution_count": 15,
     "metadata": {},
     "output_type": "execute_result"
    }
   ],
   "source": [
    "math.degrees(math.sin(x))"
   ]
  },
  {
   "cell_type": "code",
   "execution_count": 13,
   "metadata": {},
   "outputs": [],
   "source": [
    "x = b/a"
   ]
  },
  {
   "cell_type": "code",
   "execution_count": 16,
   "metadata": {},
   "outputs": [],
   "source": [
    "cos_a = (c**2 + b**2 - a**2) / (2 * b * c)\n",
    "cos_b = (a**2 + c**2 - b**2) / (2 * a * c)\n",
    "cos_c = (a**2 + b**2 - c**2) / (2 * a * b)\n"
   ]
  },
  {
   "cell_type": "code",
   "execution_count": 17,
   "metadata": {},
   "outputs": [
    {
     "data": {
      "text/plain": [
       "0.9486832980505139"
      ]
     },
     "execution_count": 17,
     "metadata": {},
     "output_type": "execute_result"
    }
   ],
   "source": [
    "cos_c"
   ]
  },
  {
   "cell_type": "code",
   "execution_count": 18,
   "metadata": {},
   "outputs": [],
   "source": [
    "a_ang = math.degrees(math.acos(cos_a))\n",
    "b_ang = math.degrees(math.acos(cos_b))\n",
    "c_ang = math.degrees(math.acos(cos_c))"
   ]
  },
  {
   "cell_type": "code",
   "execution_count": 19,
   "metadata": {},
   "outputs": [
    {
     "name": "stdout",
     "output_type": "stream",
     "text": [
      "135.00000000000003 26.565051177077994 18.434948822922\n"
     ]
    }
   ],
   "source": [
    "print(a_ang, b_ang, c_ang)"
   ]
  },
  {
   "cell_type": "code",
   "execution_count": 20,
   "metadata": {},
   "outputs": [],
   "source": [
    "def solve_triangle(loc_1, loc_2, loc_3):\n",
    "    \n",
    "    a = get_distance(loc_1, loc_2)  # between ir and tip\n",
    "    b = get_distance(loc_1, loc_3)  # between ir and point\n",
    "    c = get_distance(loc_2, loc_3)  # between tip and point\n",
    "\n",
    "    cos_a = (c**2 + b**2 - a**2) / (2 * b * c)\n",
    "    cos_b = (a**2 + c**2 - b**2) / (2 * a * c)\n",
    "    cos_c = (a**2 + b**2 - c**2) / (2 * a * b)\n",
    "\n",
    "    a_ang = math.degrees(math.acos(cos_a))  # ang at point\n",
    "    b_ang = math.degrees(math.acos(cos_b))  # ang at tip\n",
    "    c_ang = math.degrees(math.acos(cos_c))  # ang at ir\n",
    "\n",
    "    return a_ang, b_ang, c_ang"
   ]
  },
  {
   "cell_type": "code",
   "execution_count": 21,
   "metadata": {},
   "outputs": [
    {
     "data": {
      "text/plain": [
       "(111.80140948635182, 23.198590513648202, 45.0)"
      ]
     },
     "execution_count": 21,
     "metadata": {},
     "output_type": "execute_result"
    }
   ],
   "source": [
    "solve_triangle(ir[0], tip, c3[0])\n",
    "# a = ang at point\n",
    "# b = ang at tip\n",
    "# c = ang at ir"
   ]
  },
  {
   "cell_type": "code",
   "execution_count": 22,
   "metadata": {},
   "outputs": [],
   "source": [
    "ang = 90\n",
    "ir = (4, 1)\n",
    "tip = find_loc(ir, 100, 2)\n",
    "c = (4, 4)"
   ]
  },
  {
   "cell_type": "code",
   "execution_count": 23,
   "metadata": {},
   "outputs": [],
   "source": [
    "a, b, c = solve_triangle(ir, tip, c)"
   ]
  },
  {
   "cell_type": "code",
   "execution_count": 24,
   "metadata": {
    "scrolled": true
   },
   "outputs": [
    {
     "name": "stdout",
     "output_type": "stream",
     "text": [
      "18.626651768632556 151.37334823136746 9.999999999999977\n"
     ]
    }
   ],
   "source": [
    "print(a, b, c)"
   ]
  },
  {
   "cell_type": "code",
   "execution_count": 25,
   "metadata": {},
   "outputs": [],
   "source": [
    "from matplotlib import pyplot as plt\n",
    "from matplotlib import animation\n",
    "from matplotlib.patches import Circle, FancyArrow, Wedge, Ellipse\n",
    "from Helper import find_dx, find_dy, norm_ang, find_ang, get_distance, find_loc\n",
    "import math"
   ]
  },
  {
   "cell_type": "code",
   "execution_count": null,
   "metadata": {},
   "outputs": [],
   "source": []
  },
  {
   "cell_type": "code",
   "execution_count": 26,
   "metadata": {},
   "outputs": [
    {
     "data": {
      "image/png": "[encoded data removed]",
      "text/plain": [
       "<Figure size 432x288 with 1 Axes>"
      ]
     },
     "metadata": {},
     "output_type": "display_data"
    }
   ],
   "source": [
    "c1 = ((5, 5), 5)\n",
    "ang = 13\n",
    "c2 = ((10, 10), 5)\n",
    "\n",
    "# overlap?\n",
    "ax = plt.axes(xlim=(0, 15), ylim=(0, 15))\n",
    "line, = ax.plot([], [])\n",
    "ax.add_patch(Circle(c1[0], c1[1], color='green')) \n",
    "ax.add_patch(Circle(c1[0], 0.1, color='blue')) \n",
    "ax.add_patch(Circle(c2[0], c2[1], color='blue')) \n",
    "ax.add_patch(Circle(c2[0], 0.1, color='yellow')) \n",
    "\n",
    "ax.add_patch(FancyArrow(c1[0][0], c1[0][1], \n",
    "                        find_dx(c1[0][0], ang, c1[1]), find_dy(c1[0][1], ang, c1[1]),\n",
    "                        color='black', length_includes_head=True, head_width=0.3))\n",
    "\n",
    "ax.set_aspect('equal')"
   ]
  },
  {
   "cell_type": "code",
   "execution_count": 27,
   "metadata": {
    "scrolled": true
   },
   "outputs": [
    {
     "name": "stdout",
     "output_type": "stream",
     "text": [
      "Overlap\n",
      "a:5, c:7.0710678118654755\n",
      "angle 91 diff. 314.0\n"
     ]
    },
    {
     "ename": "ValueError",
     "evalue": "math domain error",
     "output_type": "error",
     "traceback": [
      "\u001b[0;31m---------------------------------------------------------------------------\u001b[0m",
      "\u001b[0;31mValueError\u001b[0m                                Traceback (most recent call last)",
      "\u001b[0;32m<ipython-input-27-ee9d73146e09>\u001b[0m in \u001b[0;36m<module>\u001b[0;34m()\u001b[0m\n\u001b[1;32m     40\u001b[0m \u001b[0;34m\u001b[0m\u001b[0m\n\u001b[1;32m     41\u001b[0m \u001b[0msin_c\u001b[0m \u001b[0;34m=\u001b[0m \u001b[0mc\u001b[0m \u001b[0;34m*\u001b[0m \u001b[0;34m(\u001b[0m\u001b[0mmath\u001b[0m\u001b[0;34m.\u001b[0m\u001b[0msin\u001b[0m\u001b[0;34m(\u001b[0m\u001b[0mmath\u001b[0m\u001b[0;34m.\u001b[0m\u001b[0mradians\u001b[0m\u001b[0;34m(\u001b[0m\u001b[0mA\u001b[0m\u001b[0;34m)\u001b[0m\u001b[0;34m)\u001b[0m\u001b[0;34m/\u001b[0m\u001b[0ma\u001b[0m\u001b[0;34m)\u001b[0m\u001b[0;34m\u001b[0m\u001b[0m\n\u001b[0;32m---> 42\u001b[0;31m \u001b[0mC\u001b[0m \u001b[0;34m=\u001b[0m \u001b[0mmath\u001b[0m\u001b[0;34m.\u001b[0m\u001b[0mdegrees\u001b[0m\u001b[0;34m(\u001b[0m\u001b[0mmath\u001b[0m\u001b[0;34m.\u001b[0m\u001b[0masin\u001b[0m\u001b[0;34m(\u001b[0m\u001b[0msin_c\u001b[0m\u001b[0;34m)\u001b[0m\u001b[0;34m)\u001b[0m\u001b[0;34m\u001b[0m\u001b[0m\n\u001b[0m\u001b[1;32m     43\u001b[0m \u001b[0;34m\u001b[0m\u001b[0m\n\u001b[1;32m     44\u001b[0m \u001b[0mpossible_b\u001b[0m \u001b[0;34m=\u001b[0m \u001b[0;34m[\u001b[0m\u001b[0;34m]\u001b[0m\u001b[0;34m\u001b[0m\u001b[0m\n",
      "\u001b[0;31mValueError\u001b[0m: math domain error"
     ]
    },
    {
     "data": {
      "image/png": "[encoded data removed]",
      "text/plain": [
       "<Figure size 432x288 with 1 Axes>"
      ]
     },
     "metadata": {},
     "output_type": "display_data"
    }
   ],
   "source": [
    "c1 = ((5, 5), 5)\n",
    "ang = 91\n",
    "c2 = ((10, 10), 5)\n",
    "\n",
    "# overlap?\n",
    "ax = plt.axes(xlim=(0, 15), ylim=(0, 15))\n",
    "line, = ax.plot([], [])\n",
    "ax.add_patch(Circle(c1[0], c1[1], color='green')) \n",
    "ax.add_patch(Circle(c1[0], 0.1, color='blue')) \n",
    "ax.add_patch(Circle(c2[0], c2[1], color='blue')) \n",
    "ax.add_patch(Circle(c2[0], 0.1, color='yellow')) \n",
    "\n",
    "ax.add_patch(FancyArrow(c1[0][0], c1[0][1], \n",
    "                        find_dx(c1[0][0], ang, c1[1]), find_dy(c1[0][1], ang, c1[1]),\n",
    "                        color='black', length_includes_head=True, head_width=0.3))\n",
    "\n",
    "ax.set_aspect('equal')\n",
    "\n",
    "# overlap?\n",
    "\n",
    "distance = get_distance(c1[0], c2[0])\n",
    "if distance < c1[1] + c2[1]:\n",
    "    print('Overlap')\n",
    "else:\n",
    "    print('Not overlap')\n",
    "    \n",
    "# BC > R?\n",
    "tip = find_loc(c1[0], ang, c1[1])\n",
    "BC = get_distance(tip, c2[0])\n",
    "if BC < c2[1]:\n",
    "    print('detectable')\n",
    "    \n",
    "# actual distance of detection\n",
    "# assume it's the smaller one\n",
    "c = distance\n",
    "a = c2[1]\n",
    "print('a:{}, c:{}'.format(a, c))\n",
    "A = norm_ang(find_ang(5, 5, 10, 10) - ang)\n",
    "print('angle', ang, 'diff.', A)\n",
    "\n",
    "sin_c = c * (math.sin(math.radians(A))/a)\n",
    "C = math.degrees(math.asin(sin_c))\n",
    "\n",
    "possible_b = []\n",
    "for possible_c in [C, 180-C]:\n",
    "    B = 180 - (180-possible_c) - A\n",
    "    #print(B)\n",
    "    b = math.sin(math.radians(B)) * (a / math.sin(math.radians(A)))\n",
    "    #print(b)\n",
    "    possible_b.append(b)\n",
    "    \n",
    "for b in possible_b:\n",
    "    if b < c1[1]:\n",
    "        print()\n",
    "        print(b)"
   ]
  },
  {
   "cell_type": "code",
   "execution_count": 28,
   "metadata": {},
   "outputs": [
    {
     "name": "stdout",
     "output_type": "stream",
     "text": [
      "Overlap\n",
      "detectable\n",
      "a:5, c:5.0\n",
      "angle 91 diff. 314.0\n",
      "\n",
      "-1.7024593920297657e-15\n"
     ]
    },
    {
     "data": {
      "image/png": "[encoded data removed]",
      "text/plain": [
       "<Figure size 432x288 with 1 Axes>"
      ]
     },
     "metadata": {},
     "output_type": "display_data"
    }
   ],
   "source": [
    "c1 = ((10, 5), 5)\n",
    "ang = 91\n",
    "c2 = ((10, 10), 5)\n",
    "\n",
    "ax = plt.axes(xlim=(0, 15), ylim=(0, 15))\n",
    "line, = ax.plot([], [])\n",
    "ax.add_patch(Circle(c1[0], c1[1], color='green')) \n",
    "ax.add_patch(Circle(c1[0], 0.1, color='blue')) \n",
    "ax.add_patch(Circle(c2[0], c2[1], color='blue')) \n",
    "ax.add_patch(Circle(c2[0], 0.1, color='yellow')) \n",
    "\n",
    "ax.add_patch(FancyArrow(c1[0][0], c1[0][1], \n",
    "                        find_dx(c1[0][0], ang, c1[1]), find_dy(c1[0][1], ang, c1[1]),\n",
    "                        color='black', length_includes_head=True, head_width=0.3))\n",
    "\n",
    "ax.set_aspect('equal')\n",
    "\n",
    "# overlap?\n",
    "\n",
    "distance = get_distance(c1[0], c2[0])\n",
    "if distance < c1[1] + c2[1]:\n",
    "    print('Overlap')\n",
    "else:\n",
    "    print('Not overlap')\n",
    "    \n",
    "# BC > R?\n",
    "tip = find_loc(c1[0], ang, c1[1])\n",
    "BC = get_distance(tip, c2[0])\n",
    "if BC < c2[1]:\n",
    "    print('detectable')\n",
    "    \n",
    "# actual distance of detection\n",
    "# assume it's the smaller one\n",
    "c = distance\n",
    "a = c2[1]\n",
    "print('a:{}, c:{}'.format(a, c))\n",
    "A = norm_ang(find_ang(5, 5, 10, 10) - ang)\n",
    "print('angle', ang, 'diff.', A)\n",
    "\n",
    "sin_c = c * (math.sin(math.radians(A))/a)\n",
    "C = math.degrees(math.asin(sin_c))\n",
    "\n",
    "possible_b = []\n",
    "for possible_c in [C, 180-C]:\n",
    "    B = 180 - (180-possible_c) - A\n",
    "    #print(B)\n",
    "    b = math.sin(math.radians(B)) * (a / math.sin(math.radians(A)))\n",
    "    #print(b)\n",
    "    possible_b.append(b)\n",
    "    \n",
    "for b in possible_b:\n",
    "    if b < c1[1]:\n",
    "        print()\n",
    "        print(b)"
   ]
  },
  {
   "cell_type": "code",
   "execution_count": 29,
   "metadata": {},
   "outputs": [],
   "source": [
    "cases = [\n",
    "    [((10, 10), 4), ((5, 5), 4)],\n",
    "    [((10, 10), 4), ((5, 10), 4)],\n",
    "    [((10, 10), 4), ((5, 15), 4)],\n",
    "    [((10, 10), 4), ((10, 5), 4)],\n",
    "    [((10, 10), 4), ((10, 15), 4)],\n",
    "    [((10, 10), 4), ((15, 5), 4)],\n",
    "    [((10, 10), 4), ((15, 10), 4)],\n",
    "    [((10, 10), 4), ((15, 15), 4)],\n",
    "]"
   ]
  },
  {
   "cell_type": "code",
   "execution_count": 30,
   "metadata": {},
   "outputs": [
    {
     "name": "stdout",
     "output_type": "stream",
     "text": [
      "Overlap\n",
      "detectable, 2\n",
      "a:4, c:5.0\n",
      "angle 232 diff. 52\n",
      "final 2.3883970165059374\n"
     ]
    },
    {
     "data": {
      "image/png": "[encoded data removed]",
      "text/plain": [
       "<Figure size 432x288 with 1 Axes>"
      ]
     },
     "metadata": {},
     "output_type": "display_data"
    }
   ],
   "source": [
    "c = 1\n",
    "\n",
    "c1 = cases[c][0]\n",
    "c2 = cases[c][1]\n",
    "ang = 232\n",
    "\n",
    "ax = plt.axes(xlim=(0, 20), ylim=(0, 20))\n",
    "line, = ax.plot([], [])\n",
    "\n",
    "ax.add_patch(Circle(c1[0], c1[1], color='green')) \n",
    "ax.add_patch(Circle(c1[0], 0.1, color='blue')) \n",
    "ax.add_patch(Circle(c2[0], c2[1], color='blue')) \n",
    "ax.add_patch(Circle(c2[0], 0.1, color='yellow')) \n",
    "\n",
    "ax.add_patch(FancyArrow(c1[0][0], c1[0][1], \n",
    "                        find_dx(c1[0][0], ang, c1[1]), find_dy(c1[0][1], ang, c1[1]),\n",
    "                        color='black', length_includes_head=True, head_width=0.3))\n",
    "\n",
    "ax.set_aspect('equal')\n",
    "\n",
    "# overlap - quadrant universal\n",
    "distance = get_distance(c1[0], c2[0])\n",
    "if distance < c1[1] + c2[1]:\n",
    "    print('Overlap')\n",
    "else:\n",
    "    print('Not overlap')\n",
    "\n",
    "\n",
    "# Detectable?\n",
    "tip = find_loc(c1[0], ang, c1[1])\n",
    "BC = get_distance(tip, c2[0])\n",
    "if BC < c2[1]:\n",
    "    print('detectable, 1')\n",
    "else:\n",
    "    other_ang = find_ang(c1[0][0], c1[0][1], c2[0][0], c2[0][1])\n",
    "    diff = abs(ang-other_ang)\n",
    "    closest = distance * math.sin(math.radians(diff)) / math.sin(math.radians(90))\n",
    "    if closest < c2[1]:\n",
    "        print('detectable, 2')\n",
    "        \n",
    "# actual distance of detection\n",
    "# among all possible answers, it's smaller than range and the smaller one\n",
    "c = distance\n",
    "a = c2[1]\n",
    "print('a:{}, c:{}'.format(a, c))\n",
    "A = abs(find_ang(c1[0][0], c1[0][1], c2[0][0], c2[0][1]) - ang)\n",
    "print('angle', ang, 'diff.', A)\n",
    "\n",
    "sin_c = c * (math.sin(math.radians(A))/a)\n",
    "C = math.degrees(math.asin(sin_c))\n",
    "\n",
    "possible_b = []\n",
    "for possible_c in [C, 180-C]:\n",
    "    B = 180 - (180-possible_c) - A\n",
    "    #print(B)\n",
    "    b = math.sin(math.radians(B)) * (a / math.sin(math.radians(A)))\n",
    "    #print(b)\n",
    "    possible_b.append(b)\n",
    "    \n",
    "final_b = []\n",
    "for b in possible_b:\n",
    "    if b < c1[1]:\n",
    "        final_b.append(b)\n",
    "print('final', min(final_b))\n"
   ]
  },
  {
   "cell_type": "code",
   "execution_count": null,
   "metadata": {},
   "outputs": [],
   "source": []
  },
  {
   "cell_type": "code",
   "execution_count": 31,
   "metadata": {},
   "outputs": [
    {
     "ename": "ValueError",
     "evalue": "math domain error",
     "output_type": "error",
     "traceback": [
      "\u001b[0;31m---------------------------------------------------------------------------\u001b[0m",
      "\u001b[0;31mValueError\u001b[0m                                Traceback (most recent call last)",
      "\u001b[0;32m<ipython-input-31-0b37a3015642>\u001b[0m in \u001b[0;36m<module>\u001b[0;34m()\u001b[0m\n\u001b[1;32m      3\u001b[0m \u001b[0ma\u001b[0m \u001b[0;34m=\u001b[0m \u001b[0mc2\u001b[0m\u001b[0;34m[\u001b[0m\u001b[0;36m1\u001b[0m\u001b[0;34m]\u001b[0m\u001b[0;34m\u001b[0m\u001b[0m\n\u001b[1;32m      4\u001b[0m \u001b[0mA\u001b[0m \u001b[0;34m=\u001b[0m \u001b[0mfind_ang\u001b[0m\u001b[0;34m(\u001b[0m\u001b[0;36m5\u001b[0m\u001b[0;34m,\u001b[0m \u001b[0;36m5\u001b[0m\u001b[0;34m,\u001b[0m \u001b[0;36m10\u001b[0m\u001b[0;34m,\u001b[0m \u001b[0;36m10\u001b[0m\u001b[0;34m)\u001b[0m \u001b[0;34m-\u001b[0m \u001b[0mang\u001b[0m\u001b[0;34m\u001b[0m\u001b[0m\n\u001b[0;32m----> 5\u001b[0;31m \u001b[0mb\u001b[0m \u001b[0;34m=\u001b[0m \u001b[0mc\u001b[0m \u001b[0;34m*\u001b[0m \u001b[0mmath\u001b[0m\u001b[0;34m.\u001b[0m\u001b[0mcos\u001b[0m\u001b[0;34m(\u001b[0m\u001b[0mA\u001b[0m\u001b[0;34m)\u001b[0m \u001b[0;34m-\u001b[0m \u001b[0mmath\u001b[0m\u001b[0;34m.\u001b[0m\u001b[0msqrt\u001b[0m\u001b[0;34m(\u001b[0m\u001b[0ma\u001b[0m\u001b[0;34m**\u001b[0m\u001b[0;36m2\u001b[0m \u001b[0;34m-\u001b[0m \u001b[0mc\u001b[0m\u001b[0;34m**\u001b[0m\u001b[0;36m2\u001b[0m \u001b[0;34m*\u001b[0m \u001b[0mmath\u001b[0m\u001b[0;34m.\u001b[0m\u001b[0msin\u001b[0m\u001b[0;34m(\u001b[0m\u001b[0mA\u001b[0m\u001b[0;34m)\u001b[0m\u001b[0;34m**\u001b[0m\u001b[0;36m2\u001b[0m\u001b[0;34m)\u001b[0m\u001b[0;34m\u001b[0m\u001b[0m\n\u001b[0m\u001b[1;32m      6\u001b[0m \u001b[0mprint\u001b[0m\u001b[0;34m(\u001b[0m\u001b[0mb\u001b[0m\u001b[0;34m)\u001b[0m\u001b[0;34m\u001b[0m\u001b[0m\n",
      "\u001b[0;31mValueError\u001b[0m: math domain error"
     ]
    }
   ],
   "source": [
    "# actual distance of detection\n",
    "c = distance\n",
    "a = c2[1]\n",
    "A = find_ang(5, 5, 10, 10) - ang\n",
    "b = c * math.cos(A) - math.sqrt(a**2 - c**2 * math.sin(A)**2)\n",
    "print(b)"
   ]
  },
  {
   "cell_type": "code",
   "execution_count": 32,
   "metadata": {},
   "outputs": [
    {
     "ename": "SyntaxError",
     "evalue": "invalid syntax (<ipython-input-32-004513fc177d>, line 1)",
     "output_type": "error",
     "traceback": [
      "\u001b[0;36m  File \u001b[0;32m\"<ipython-input-32-004513fc177d>\"\u001b[0;36m, line \u001b[0;32m1\u001b[0m\n\u001b[0;31m    b=ccosA+/-sqrt(a^2-c^2sin^2A).\u001b[0m\n\u001b[0m            ^\u001b[0m\n\u001b[0;31mSyntaxError\u001b[0m\u001b[0;31m:\u001b[0m invalid syntax\n"
     ]
    }
   ],
   "source": [
    " b=ccosA+/-sqrt(a^2-c^2sin^2A). "
   ]
  },
  {
   "cell_type": "code",
   "execution_count": 33,
   "metadata": {},
   "outputs": [
    {
     "data": {
      "text/plain": [
       "-187.0"
      ]
     },
     "execution_count": 33,
     "metadata": {},
     "output_type": "execute_result"
    }
   ],
   "source": [
    "find_ang(5, 5, 10, 10) - ang"
   ]
  },
  {
   "cell_type": "code",
   "execution_count": 127,
   "metadata": {},
   "outputs": [
    {
     "data": {
      "text/plain": [
       "(5, 5)"
      ]
     },
     "execution_count": 127,
     "metadata": {},
     "output_type": "execute_result"
    }
   ],
   "source": [
    "c1[0]"
   ]
  },
  {
   "cell_type": "code",
   "execution_count": 128,
   "metadata": {},
   "outputs": [
    {
     "data": {
      "text/plain": [
       "(10, 10)"
      ]
     },
     "execution_count": 128,
     "metadata": {},
     "output_type": "execute_result"
    }
   ],
   "source": [
    "c2[0]"
   ]
  },
  {
   "cell_type": "code",
   "execution_count": null,
   "metadata": {},
   "outputs": [],
   "source": [
    "cases = [\n",
    "    [((10, 10), 4), ((5, 5), 4)],\n",
    "    [((10, 10), 4), ((5, 10), 4)],\n",
    "    [((10, 10), 4), ((5, 15), 4)],\n",
    "    [((10, 10), 4), ((10, 5), 4)],\n",
    "    [((10, 10), 4), ((10, 15), 4)],\n",
    "    [((10, 10), 4), ((15, 5), 4)],\n",
    "    [((10, 10), 4), ((15, 10), 4)],\n",
    "    [((10, 10), 4), ((15, 15), 4)],\n",
    "]\n",
    "\n"
   ]
  },
  {
   "cell_type": "code",
   "execution_count": null,
   "metadata": {},
   "outputs": [],
   "source": [
    "# ir sensor: loc, ang, range\n",
    "\n",
    "\n",
    "def get_ir_reading(IR, environment, agents):\n",
    "    pass\n",
    "\n",
    "\n",
    "def check_wall(environment, ir_loc, ir_ang):\n",
    "    \"\"\"\n",
    "    Check reading due to wall.\n",
    "\n",
    "    Logic:\n",
    "    1. Find the maximum point within range of signal detection (range_max)\n",
    "    2. See whether this point goes beyond the width and height of the environment.\n",
    "    3. If it does, that means a wall is within range of detection.\n",
    "    4. Calculate distance between IR sensor and the closest point to wall.\n",
    "    5. IR sensor reading is the the ratio between this distance and the max range of detection.\n",
    "    \"\"\"\n",
    "    range_max = find_loc(loc, ang, ir_range)\n",
    "\n",
    "    else:\n",
    "        distance = 1\n",
    "\n",
    "    reading = 1-distance\n",
    "\n",
    "return reading\n",
    "\n"
   ]
  },
  {
   "cell_type": "code",
   "execution_count": null,
   "metadata": {},
   "outputs": [],
   "source": [
    "Test_wall = [\n",
    "    [(260, 260), 1]\n",
    "]"
   ]
  }
 ],
 "metadata": {
  "kernelspec": {
   "display_name": "Python 3",
   "language": "python",
   "name": "python3"
  },
  "language_info": {
   "codemirror_mode": {
    "name": "ipython",
    "version": 3
   },
   "file_extension": ".py",
   "mimetype": "text/x-python",
   "name": "python",
   "nbconvert_exporter": "python",
   "pygments_lexer": "ipython3",
   "version": "3.6.1"
  }
 },
 "nbformat": 4,
 "nbformat_minor": 2
}
