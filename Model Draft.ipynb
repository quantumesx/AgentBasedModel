{
 "cells": [
  {
   "cell_type": "code",
   "execution_count": 5,
   "metadata": {},
   "outputs": [],
   "source": [
    "import numpy as np\n",
    "from matplotlib import pyplot as plt\n",
    "from matplotlib import animation\n",
    "from matplotlib.patches import Circle"
   ]
  },
  {
   "cell_type": "code",
   "execution_count": 6,
   "metadata": {},
   "outputs": [],
   "source": []
  },
  {
   "cell_type": "code",
   "execution_count": 54,
   "metadata": {},
   "outputs": [],
   "source": []
  },
  {
   "cell_type": "code",
   "execution_count": 55,
   "metadata": {},
   "outputs": [
    {
     "data": {
      "text/plain": [
       "[[(80, 80), 45], [(190, 190), 45]]"
      ]
     },
     "execution_count": 55,
     "metadata": {},
     "output_type": "execute_result"
    }
   ],
   "source": [
    "env.targets"
   ]
  },
  {
   "cell_type": "code",
   "execution_count": 56,
   "metadata": {},
   "outputs": [
    {
     "name": "stdout",
     "output_type": "stream",
     "text": [
      "[(80, 80), 45]\n",
      "[(190, 190), 45]\n"
     ]
    },
    {
     "data": {
      "image/png": "[encoded data removed]",
      "text/plain": [
       "<Figure size 432x288 with 1 Axes>"
      ]
     },
     "metadata": {},
     "output_type": "display_data"
    }
   ],
   "source": [
    "env.show()"
   ]
  },
  {
   "cell_type": "markdown",
   "metadata": {},
   "source": [
    "# Environment"
   ]
  },
  {
   "cell_type": "code",
   "execution_count": 303,
   "metadata": {},
   "outputs": [],
   "source": [
    "# Environment function\n",
    "class environment():\n",
    "    def __init__(self, name, height, width):\n",
    "        \"\"\"\n",
    "        Initialize the environment.\n",
    "        \n",
    "        name: str, the name for the current environment\n",
    "        Default height and width: 270\n",
    "        \"\"\"\n",
    "        super().__init__()\n",
    "        self.name = name\n",
    "        self.height = height\n",
    "        self.width = width\n",
    "        self.targets = []\n",
    "        \n",
    "    def add_target(self, target_loc, target_r):\n",
    "        \"\"\"\n",
    "        Set parameters for the target areas of the environment.\n",
    "        \n",
    "        target_loc: list of tuples, (x, y) coordinates for each target area\n",
    "        target_r: int, radius of the target areas\n",
    "        \"\"\"\n",
    "        self.targets.append([target_loc, target_r])        \n",
    "        \n",
    "    def show(self):\n",
    "        \"\"\"Plots out the current environment.\"\"\"\n",
    "        ax = plt.axes(xlim=(0, width), ylim=(0, height))\n",
    "        line, = ax.plot([], [])\n",
    "        \n",
    "        for target in self.targets:\n",
    "            ax.add_patch(Circle(target[0], target[1])) # target[0] = target_loc (x, y) , target[1] = target_r\n",
    "            \n",
    "        ax.set_aspect('equal')"
   ]
  },
  {
   "cell_type": "code",
   "execution_count": 306,
   "metadata": {},
   "outputs": [
    {
     "data": {
      "image/png": "[encoded data removed]",
      "text/plain": [
       "<Figure size 432x288 with 1 Axes>"
      ]
     },
     "metadata": {},
     "output_type": "display_data"
    }
   ],
   "source": [
    "# Environment\n",
    "\n",
    "# arena of 270 * 270\n",
    "env = environment(name='square', height=270, width=270)\n",
    "\n",
    "# add two target areas\n",
    "env.add_target(target_loc=(80, 80), target_r=45)\n",
    "env.add_target(target_loc=(190, 190), target_r=45)\n",
    "\n",
    "# see product\n",
    "env.show()"
   ]
  },
  {
   "cell_type": "markdown",
   "metadata": {},
   "source": [
    "# Agent"
   ]
  },
  {
   "cell_type": "code",
   "execution_count": 311,
   "metadata": {
    "scrolled": true
   },
   "outputs": [],
   "source": [
    "class agent():\n",
    "    def __init__(self, name):\n",
    "        \"\"\"\n",
    "        Initialize the environment.\n",
    "        \n",
    "        name: str, the name for the current environment\n",
    "        Default height and width: 270\n",
    "        \"\"\"\n",
    "        super().__init__()\n",
    "        self.name = name\n",
    "        self.r = 11\n",
    "        self.orientation = 270\n",
    "        \n",
    "        # sensors\n",
    "        self.ir_sensors = []\n",
    "        self.ground_sensors = []\n",
    "        self.comm_others = []\n",
    "        self.comm_self = []\n",
    "        \n",
    "        # controller\n",
    "        self.controller = []\n",
    "        \n",
    "        # actuators\n",
    "        self.motors = []\n",
    "        self.comm = []\n",
    "        \n",
    "    def set_controller(self):\n",
    "        \"\"\"\n",
    "        Set controller for the agent.\n",
    "        \"\"\"\n",
    "        pass\n",
    "    \n",
    "    def add_actuator(self):\n",
    "        \"\"\"\n",
    "        Add an actuator for the agent.\n",
    "        \"\"\"\n",
    "        pass\n",
    "    \n",
    "    def show(self):\n",
    "        pass"
   ]
  },
  {
   "cell_type": "code",
   "execution_count": 312,
   "metadata": {},
   "outputs": [],
   "source": [
    "robot = agent('1')"
   ]
  },
  {
   "cell_type": "code",
   "execution_count": 313,
   "metadata": {},
   "outputs": [
    {
     "data": {
      "text/plain": [
       "<__main__.agent at 0x113482b38>"
      ]
     },
     "execution_count": 313,
     "metadata": {},
     "output_type": "execute_result"
    }
   ],
   "source": []
  },
  {
   "cell_type": "code",
   "execution_count": 307,
   "metadata": {},
   "outputs": [],
   "source": [
    "body = ((100, 100), 100)\n",
    "ground = ((100, 100), 5)\n",
    "ir_sensors = [\n",
    "    ((20, 120), 5),\n",
    "    ((50, 150), 5),\n",
    "    ((80, 180), 5),\n",
    "    ((120, 180), 5),\n",
    "    ((150, 150), 5),\n",
    "    ((170, 120), 5),\n",
    "    ((75, 30), 5),\n",
    "    ((125, 30), 5)\n",
    "]\n",
    "\n",
    "comm_sensors = [\n",
    "    ((75, 75), 5),\n",
    "    ((125, 75), 5),\n",
    "    ((75, 125), 5),\n",
    "    ((125, 125), 5)\n",
    "]\n"
   ]
  },
  {
   "cell_type": "code",
   "execution_count": 308,
   "metadata": {
    "scrolled": false
   },
   "outputs": [
    {
     "data": {
      "image/png": "[encoded data removed]",
      "text/plain": [
       "<Figure size 432x288 with 1 Axes>"
      ]
     },
     "metadata": {},
     "output_type": "display_data"
    }
   ],
   "source": [
    "plot_agent(body, ground, ir_sensors, comm_sensors)"
   ]
  },
  {
   "cell_type": "code",
   "execution_count": 179,
   "metadata": {},
   "outputs": [],
   "source": [
    "from matplotlib.patches import Rectangle, FancyArrow"
   ]
  },
  {
   "cell_type": "code",
   "execution_count": 162,
   "metadata": {},
   "outputs": [
    {
     "ename": "TypeError",
     "evalue": "__init__() missing 4 required positional arguments: 'x', 'y', 'dx', and 'dy'",
     "output_type": "error",
     "traceback": [
      "\u001b[0;31m---------------------------------------------------------------------------\u001b[0m",
      "\u001b[0;31mTypeError\u001b[0m                                 Traceback (most recent call last)",
      "\u001b[0;32m<ipython-input-162-41544bebcc8f>\u001b[0m in \u001b[0;36m<module>\u001b[0;34m()\u001b[0m\n\u001b[0;32m----> 1\u001b[0;31m \u001b[0mmatplotlib\u001b[0m\u001b[0;34m.\u001b[0m\u001b[0mpatches\u001b[0m\u001b[0;34m.\u001b[0m\u001b[0mArrow\u001b[0m\u001b[0;34m(\u001b[0m\u001b[0;34m)\u001b[0m\u001b[0;34m\u001b[0m\u001b[0m\n\u001b[0m",
      "\u001b[0;31mTypeError\u001b[0m: __init__() missing 4 required positional arguments: 'x', 'y', 'dx', and 'dy'"
     ]
    }
   ],
   "source": [
    "matplotlib.patches.\n"
   ]
  },
  {
   "cell_type": "code",
   "execution_count": 248,
   "metadata": {
    "scrolled": false
   },
   "outputs": [
    {
     "data": {
      "image/png": "[encoded data removed]",
      "text/plain": [
       "<Figure size 432x288 with 1 Axes>"
      ]
     },
     "metadata": {},
     "output_type": "display_data"
    }
   ],
   "source": [
    "\n"
   ]
  },
  {
   "cell_type": "code",
   "execution_count": null,
   "metadata": {},
   "outputs": [],
   "source": [
    "IR_ang = 90\n"
   ]
  },
  {
   "cell_type": "code",
   "execution_count": 258,
   "metadata": {},
   "outputs": [
    {
     "name": "stdout",
     "output_type": "stream",
     "text": [
      "1st quadrant\n",
      "0.7853981633974483\n",
      "45.0\n",
      "2nd quadrant\n",
      "0.7853981633974483\n",
      "135.0\n",
      "135.0\n",
      "3rd quadrant\n",
      "0.7853981633974483\n",
      "225.0\n",
      "225.0\n",
      "4th quadrant\n",
      "0.7853981633974483\n",
      "315.0\n",
      "315.0\n"
     ]
    }
   ],
   "source": [
    "# orange: 315\n",
    "a = find_ang(100, 100, 150, 150) # 225\n",
    "print(a)\n",
    "\n",
    "# purplr: 225\n",
    "a = find_ang(100, 100, 50, 150)\n",
    "print(a)\n",
    "\n",
    "# blue: 135\n",
    "a = find_ang(100, 100, 50, 50)\n",
    "print(a)\n",
    "\n",
    "# green:45\n",
    "a = find_ang(100, 100, 150, 50)\n",
    "print(a)\n",
    "\n",
    "\n"
   ]
  },
  {
   "cell_type": "code",
   "execution_count": 357,
   "metadata": {},
   "outputs": [
    {
     "data": {
      "text/plain": [
       "70.71067811865476"
      ]
     },
     "execution_count": 357,
     "metadata": {},
     "output_type": "execute_result"
    }
   ],
   "source": []
  },
  {
   "cell_type": "markdown",
   "metadata": {},
   "source": [
    "# ANGLES"
   ]
  },
  {
   "cell_type": "code",
   "execution_count": 430,
   "metadata": {},
   "outputs": [],
   "source": [
    "# These 4 functions work\n",
    "\n",
    "def find_ang(x1, y1, x2, y2):\n",
    "    \"\"\"\n",
    "    Find orientation of the vector linking x1, y1 to x2, y2.\n",
    "    Not that this is 180 degree different from the vector linking x2, y2 to x1, y1.\n",
    "    \n",
    "    Validated: 03/04/19.\n",
    "    \"\"\"\n",
    "    dx = x2 - x1\n",
    "    dy = y2 - y1\n",
    "    \n",
    "    if dx==0 and dy == 0:\n",
    "        print('Error: the two points can not be the same')\n",
    "        return 0\n",
    "\n",
    "    # 1st quadrant\n",
    "    if dx >= 0 and dy >= 0:\n",
    "        rad = math.atan(abs(dy/dx))\n",
    "        ang_raw = math.degrees(rad)\n",
    "        # print('1st quadrant')\n",
    "        # print(ang_raw)\n",
    "\n",
    "    # 2nd quadrant\n",
    "    elif dx < 0 and dy >= 0:\n",
    "        rad = math.atan(abs(dx/dy))\n",
    "        ang_raw = math.degrees(rad) + 90\n",
    "        # print('2nd quadrant')\n",
    "        # print(ang_raw)\n",
    "\n",
    "    # 3rd quadrant\n",
    "    if dx < 0 and dy < 0:\n",
    "        # print('3rd quadrant')\n",
    "        rad = math.atan(abs(dy/dx))\n",
    "        ang_raw = math.degrees(rad) + 180\n",
    "        # print(rad)\n",
    "        # print(ang_raw)\n",
    "    # 4nd quadrant  \n",
    "    if dx >= 0 and dy < 0:\n",
    "        # print('4th quadrant')\n",
    "        rad = math.atan(abs(dx/dy))\n",
    "        ang_raw = math.degrees(rad) + 270\n",
    "        # print(rad)\n",
    "        # print(ang_raw)\n",
    "    \n",
    "    ang = ang_raw % 360\n",
    "    \n",
    "    return ang\n",
    "\n",
    "\n",
    "def find_dx(x, ang, distance):\n",
    "    \"\"\"\n",
    "    Find change in x coordinate.\n",
    "    Used in find_loc.\n",
    "    \n",
    "    Validated: 03/04/19.\n",
    "    \"\"\"\n",
    "    # 1st quadrant\n",
    "    if ang >= 0 and ang < 90:\n",
    "        dx =  distance*math.cos(math.radians(ang))\n",
    "        \n",
    "    # 2nd quadrant\n",
    "    elif ang >= 90 and ang < 180:\n",
    "         dx = 0 - distance*math.sin(math.radians(ang - 90))\n",
    "\n",
    "    # 3rd quadrant\n",
    "    elif ang >= 180 and ang < 270:\n",
    "         dx = 0 - distance*math.cos(math.radians(ang - 180))\n",
    "    \n",
    "    # 4th quadrant\n",
    "    elif ang >= 270 and ang < 360:\n",
    "         dx = distance*math.sin(math.radians(ang - 270))\n",
    "    \n",
    "    return dx\n",
    "        \n",
    "def find_dy(y, ang, distance):\n",
    "    \"\"\"\n",
    "    Find change in y coordinate.\n",
    "    Used in find_loc.\n",
    "    \n",
    "    Validated: 03/04/19.\n",
    "    \"\"\"\n",
    "    # 1st quadrant\n",
    "    if ang >= 0 and ang < 90:\n",
    "        dy = distance*math.sin(math.radians(ang))\n",
    "        \n",
    "    # 2nd quadrant\n",
    "    elif ang >= 90 and ang < 180:\n",
    "        dy = distance*math.cos(math.radians(ang - 90))\n",
    "\n",
    "    # 3rd quadrant\n",
    "    elif ang >= 180 and ang < 270:\n",
    "        dy = 0 - distance*math.sin(math.radians(ang - 180))\n",
    "    \n",
    "    # 4th quadrant\n",
    "    elif ang >= 270 and ang < 360:\n",
    "        dy = 0 - distance*math.cos(math.radians(ang - 270))\n",
    "    \n",
    "    return dy\n",
    "\n",
    "def find_loc(x, y, ang, distance):\n",
    "    \"\"\"\n",
    "    Given a point and an angle, find the new point.\n",
    "    Used in all sorts of loc calculations.\n",
    "    \n",
    "    - x: current x coordinate\n",
    "    - y: current y coordinate\n",
    "    - ang: ang between current and new loc\n",
    "    - distance between current and new loc\n",
    "    \"\"\"\n",
    "    dx = find_dx(x, ang, distance)\n",
    "    dy = find_dy(y, ang, distance)\n",
    "    new_loc = x + dx, y + dy\n",
    "    \n",
    "    return new_loc\n",
    "\n",
    "def add_ang(ang1, ang2):\n",
    "    \"\"\"\n",
    "    Arithmetics for angles.\n",
    "    \n",
    "    Assumes 0 <= ang1 < 360, and ang2 can be any value.\n",
    "    Validated: 03/04/19\n",
    "    \"\"\"\n",
    "    ang_raw = ang1 + ang2\n",
    "    if ang_raw >= 360:\n",
    "        ang = ang_raw % 360\n",
    "    elif ang_raw < 0:\n",
    "        ang = 360 + (ang_raw % -360)\n",
    "    else:\n",
    "        ang = ang_raw\n",
    "        \n",
    "    return ang\n"
   ]
  },
  {
   "cell_type": "code",
   "execution_count": 431,
   "metadata": {},
   "outputs": [],
   "source": [
    "def test_ang():\n",
    "    \"\"\"Test find_ series functions.\"\"\"\n",
    "    distance = math.sqrt(50**2+50**2)\n",
    "    test_set = [\n",
    "    # (x1, y2, x2, y2, ang)\n",
    "    (100, 100, 150, 150, 45),\n",
    "    (100, 100, 50, 150, 135),\n",
    "    (100, 100, 50, 50, 225),\n",
    "    (100, 100, 150, 50, 315)\n",
    "    ]\n",
    "\n",
    "    ax = plt.axes(xlim=(0, 200), ylim=(0, 200))\n",
    "    line, = ax.plot([], [])\n",
    "\n",
    "    # body\n",
    "    ax.add_patch(Circle(body[0], body[1], color='yellow')) # target[0] = target_loc (x, y) , target[1] = target_r\n",
    "\n",
    "    # rectangle\n",
    "    # ax.add_patch(Rectangle((100, 100), 60, 1, 30, color='red'))\n",
    "\n",
    "    # 4 arrows\n",
    "    ax.add_patch(FancyArrow(100, 100, -50, 50, width=3, head_length=10, head_width=15, length_includes_head=True, color='purple'))\n",
    "    ax.add_patch(FancyArrow(100, 100, 50, -50, width=3, head_length=10, head_width=15, length_includes_head=True, color='green'))\n",
    "    ax.add_patch(FancyArrow(100, 100, 50, 50, width=3, head_length=10, head_width=15, length_includes_head=True, color='orange'))\n",
    "    ax.add_patch(FancyArrow(100, 100, -50, -50, width=3, head_length=10, head_width=15, length_includes_head=True, color='blue'))\n",
    "\n",
    "    ax.set_aspect('equal')\n",
    "    print(\n",
    "    \"\"\"\n",
    "    distance: 70.71\n",
    "    \n",
    "    orange: 45 degrees\n",
    "    purple: 135 degrees\n",
    "    blue: 225 degrees\n",
    "    green: 315 degrees\n",
    "    \"\"\"\n",
    "    )\n",
    "    \n",
    "    for t in test_set:\n",
    "        a = find_ang(t[0], t[1], t[2], t[3])\n",
    "        print('\\nanswer:', a)\n",
    "        \n",
    "        print('\\nx&y:')\n",
    "        x = t[0] + find_dx(t[0], a, distance)\n",
    "        y = t[1] + find_dy(t[1], a, distance)\n",
    "        print(x, y, '\\n')\n",
    "        \n",
    "        loc = find_loc(t[0], t[1], a, distance)\n",
    "\n",
    "        print('loc')\n",
    "        print(t[2], t[3])\n",
    "        print(loc)"
   ]
  },
  {
   "cell_type": "code",
   "execution_count": 391,
   "metadata": {},
   "outputs": [
    {
     "name": "stdout",
     "output_type": "stream",
     "text": [
      "\n",
      "    distance: 70.71\n",
      "    \n",
      "    orange: 45 degrees\n",
      "    purple: 135 degrees\n",
      "    blue: 225 degrees\n",
      "    green: 315 degrees\n",
      "    \n",
      "\n",
      "answer: 45.0\n",
      "\n",
      "x&y:\n",
      "150.0 150.0 \n",
      "\n",
      "loc\n",
      "150 150\n",
      "(150.0, 150.0)\n",
      "\n",
      "answer: 135.0\n",
      "\n",
      "x&y:\n",
      "50.0 150.0 \n",
      "\n",
      "loc\n",
      "50 150\n",
      "(50.0, 150.0)\n",
      "\n",
      "answer: 225.0\n",
      "\n",
      "x&y:\n",
      "49.99999999999999 50.0 \n",
      "\n",
      "loc\n",
      "50 50\n",
      "(49.99999999999999, 50.0)\n",
      "\n",
      "answer: 315.0\n",
      "\n",
      "x&y:\n",
      "150.0 49.99999999999999 \n",
      "\n",
      "loc\n",
      "150 50\n",
      "(150.0, 49.99999999999999)\n"
     ]
    },
    {
     "data": {
      "image/png": "[encoded data removed]",
      "text/plain": [
       "<Figure size 432x288 with 1 Axes>"
      ]
     },
     "metadata": {},
     "output_type": "display_data"
    }
   ],
   "source": [
    "test_ang()"
   ]
  },
  {
   "cell_type": "code",
   "execution_count": 392,
   "metadata": {},
   "outputs": [],
   "source": [
    "def plot_agent(body, ground, ir_sensors, comm_sensors):\n",
    "    \n",
    "    # generate plot\n",
    "    ax = plt.axes(xlim=(0, 200), ylim=(0, 200))\n",
    "    line, = ax.plot([], [])\n",
    "\n",
    "    # body\n",
    "    ax.add_patch(Circle(body[0], body[1], color='green')) # target[0] = target_loc (x, y) , target[1] = target_r\n",
    "\n",
    "    # ground sensor\n",
    "    ax.add_patch(Circle(ground[0], ground[1], color='blue'))\n",
    "\n",
    "    # IR sensors\n",
    "    for ir in ir_sensors:\n",
    "        ax.add_patch(Circle(ir[0], ir[1], color='red'))\n",
    "\n",
    "    # comm sensors\n",
    "    for comm in comm_sensors:\n",
    "        ax.add_patch(Circle(comm[0], comm[1], color='cyan'))\n",
    "    \n",
    "    # fix aspect\n",
    "    ax.set_aspect('equal')"
   ]
  },
  {
   "cell_type": "code",
   "execution_count": 393,
   "metadata": {},
   "outputs": [
    {
     "ename": "TypeError",
     "evalue": "plot_agent() missing 4 required positional arguments: 'body', 'ground', 'ir_sensors', and 'comm_sensors'",
     "output_type": "error",
     "traceback": [
      "\u001b[0;31m---------------------------------------------------------------------------\u001b[0m",
      "\u001b[0;31mTypeError\u001b[0m                                 Traceback (most recent call last)",
      "\u001b[0;32m<ipython-input-393-e0257e702946>\u001b[0m in \u001b[0;36m<module>\u001b[0;34m()\u001b[0m\n\u001b[0;32m----> 1\u001b[0;31m \u001b[0mplot_agent\u001b[0m\u001b[0;34m(\u001b[0m\u001b[0;34m)\u001b[0m\u001b[0;34m\u001b[0m\u001b[0m\n\u001b[0m",
      "\u001b[0;31mTypeError\u001b[0m: plot_agent() missing 4 required positional arguments: 'body', 'ground', 'ir_sensors', and 'comm_sensors'"
     ]
    }
   ],
   "source": [
    "plot_agent()"
   ]
  },
  {
   "cell_type": "code",
   "execution_count": 403,
   "metadata": {},
   "outputs": [
    {
     "name": "stdout",
     "output_type": "stream",
     "text": [
      "0\n",
      "[(80, 80), 45]\n",
      "(75, 80)\n",
      "in target area\n",
      "[(190, 190), 45]\n",
      "(75, 80)\n",
      "not in target area\n",
      "0\n"
     ]
    }
   ],
   "source": []
  },
  {
   "cell_type": "code",
   "execution_count": 400,
   "metadata": {},
   "outputs": [
    {
     "data": {
      "text/plain": [
       "0"
      ]
     },
     "execution_count": 400,
     "metadata": {},
     "output_type": "execute_result"
    }
   ],
   "source": []
  },
  {
   "cell_type": "code",
   "execution_count": 401,
   "metadata": {},
   "outputs": [
    {
     "name": "stdout",
     "output_type": "stream",
     "text": [
      "[(80, 80), 45]\n",
      "(75, 80)\n",
      "in target area\n",
      "[(190, 190), 45]\n",
      "(75, 80)\n",
      "not in target area\n"
     ]
    }
   ],
   "source": []
  },
  {
   "cell_type": "code",
   "execution_count": 110,
   "metadata": {},
   "outputs": [],
   "source": []
  },
  {
   "cell_type": "code",
   "execution_count": 112,
   "metadata": {},
   "outputs": [
    {
     "data": {
      "text/plain": [
       "4.0"
      ]
     },
     "execution_count": 112,
     "metadata": {},
     "output_type": "execute_result"
    }
   ],
   "source": []
  },
  {
   "cell_type": "code",
   "execution_count": 78,
   "metadata": {},
   "outputs": [
    {
     "data": {
      "text/plain": [
       "[[(80, 80), 45], [(190, 190), 45]]"
      ]
     },
     "execution_count": 78,
     "metadata": {},
     "output_type": "execute_result"
    }
   ],
   "source": [
    "env.targets"
   ]
  },
  {
   "cell_type": "code",
   "execution_count": 113,
   "metadata": {},
   "outputs": [],
   "source": [
    "class sensor():\n",
    "    \"\"\"\n",
    "    Sensor objects.\n",
    "    \n",
    "    Contains methods for getting sensor values, and feeding values into the controller.\n",
    "    \n",
    "    Sensors are categorized via their modalities, including:\n",
    "    - IR sensor\n",
    "    - ground sensor\n",
    "    - communication sensor (other)\n",
    "    - communication sensor (self)\n",
    "    \n",
    "    attr:\n",
    "    - current position and orientation of the sensor\n",
    "    - current sensor reading\n",
    "    - sensor reading history\n",
    "    \n",
    "    methods:\n",
    "    - get sensor readings\n",
    "    - convert reading to controller input ([0, 1])\n",
    "    \n",
    "    \"\"\"\n",
    "    def __init__(self, modality):\n",
    "        \"\"\"\n",
    "        \n",
    "        \n",
    "        \"\"\"\n",
    "        if modality == 'IR':\n",
    "            pass \n",
    "        \n",
    "        elif modality == 'ground':\n",
    "            self = ground_sensor()\n",
    "\n",
    "        \n",
    "        elif modality == 'com_self':\n",
    "            pass\n",
    "        \n",
    "        elif modality == 'com_other':\n",
    "            pass\n",
    "        \n",
    "    \n",
    "    def read(self):\n",
    "        pass\n",
    "    \n",
    "    def to_controller():\n",
    "        pass\n",
    "    "
   ]
  },
  {
   "cell_type": "markdown",
   "metadata": {},
   "source": [
    "### Ground Sensor"
   ]
  },
  {
   "cell_type": "code",
   "execution_count": 432,
   "metadata": {},
   "outputs": [],
   "source": [
    "class ground_sensor():\n",
    "    \"\"\"Methods for Ground sensors.\"\"\"\n",
    "    def __init__(self):\n",
    "        super().__init__()\n",
    "        self.modality = 'Ground'\n",
    "        self.loc = (0, 0) # in relation to the agent's center point; need to update\n",
    "        self.reading = 0\n",
    "    \n",
    "    def get_reading(self, targets):\n",
    "        \"\"\"\n",
    "        Get current sensor reading.\n",
    "        \n",
    "        If in target area, return 1; if not in target area, return 0.\n",
    "        Calculation: \n",
    "        \n",
    "        Input:\n",
    "        - target_loc\n",
    "        - target_r\n",
    "        - self.loc\n",
    "        \"\"\"\n",
    "        in_target = False\n",
    "        self.reading = 0\n",
    "        for target in targets:\n",
    "            print('target:', target)\n",
    "            print('self:', self.loc)\n",
    "            x_delta = self.loc[0] - target[0][0] # difference on the x axis\n",
    "            y_delta = self.loc[1] - target[0][1] # difference on the y axis\n",
    "            \n",
    "            distance_sqr = x_delta**2 + y_delta**2\n",
    "            # print(distance_sqr, target[1]**2)\n",
    "            \n",
    "            if distance_sqr <= target[1]**2:\n",
    "                in_target = True\n",
    "                print('in target area\\n')\n",
    "            else:\n",
    "                print('not in target area\\n')\n",
    "        if in_target:\n",
    "            self.reading = 1\n",
    "        "
   ]
  },
  {
   "cell_type": "code",
   "execution_count": 433,
   "metadata": {},
   "outputs": [
    {
     "name": "stdout",
     "output_type": "stream",
     "text": [
      "0\n",
      "target: [(80, 80), 45]\n",
      "self: (75, 80)\n",
      "in target area\n",
      "\n",
      "target: [(190, 190), 45]\n",
      "self: (75, 80)\n",
      "not in target area\n",
      "\n",
      "1\n"
     ]
    }
   ],
   "source": [
    "# test ground sensor\n",
    "gr = ground_sensor()\n",
    "gr.loc = 75, 80\n",
    "\n",
    "print(gr.reading)\n",
    "gr.get_reading(env.targets)\n",
    "\n",
    "print(gr.reading)"
   ]
  },
  {
   "cell_type": "markdown",
   "metadata": {},
   "source": [
    "### IR sensor"
   ]
  },
  {
   "cell_type": "code",
   "execution_count": 415,
   "metadata": {},
   "outputs": [],
   "source": [
    "class IR_sensor(sensor):\n",
    "    \"\"\"Methods for IR sensors.\"\"\"\n",
    "    def __init__(self, orientation=0):\n",
    "        super().__init__()\n",
    "        self.modality = 'IR'\n",
    "        self.loc = (0, 0)\n",
    "        self.orientation = orientation # degree from the agent's midline\n",
    "        self.min_dist = 5\n",
    "        self.min = 0\n",
    "        self.max = 225\n",
    "        self.reading = 0 # range = 0 - 255\n",
    "    \n",
    "    def get_reading():\n",
    "        \"\"\"\n",
    "        Get reading in response to obstacle, including wall and other agents.\n",
    "        The closer the distance, the higher the reading.\n",
    "        \n",
    "        Method:\n",
    "        - 1. check for wall (write this first)\n",
    "            - find intersect with the wall it's facing\n",
    "            - check if distance is less than \n",
    "        - 2. check for other agents\n",
    "        \"\"\"\n",
    "        pass"
   ]
  },
  {
   "cell_type": "markdown",
   "metadata": {},
   "source": [
    "### Comm sensor"
   ]
  },
  {
   "cell_type": "code",
   "execution_count": null,
   "metadata": {},
   "outputs": [],
   "source": [
    "class comm_sensor(sensor):\n",
    "    \"\"\"Methods for IR sensors.\"\"\"\n",
    "    def __init__(self):\n",
    "        super().__init__()\n",
    "        self.modality = 'comm_other'\n",
    "        self.loc = (0, 0)\n",
    "        self.min_ang = -45\n",
    "        self.max_ang = 45\n",
    "        self.min = 0\n",
    "        self.max = 225\n",
    "        self.reading = 0 # range = 0 - 255\n",
    "    \n",
    "    def get_reading():\n",
    "        pass"
   ]
  },
  {
   "cell_type": "markdown",
   "metadata": {},
   "source": [
    "## Controller"
   ]
  },
  {
   "cell_type": "code",
   "execution_count": null,
   "metadata": {},
   "outputs": [],
   "source": [
    "class controller():\n",
    "    \"\"\"\n",
    "    Controller objects.\n",
    "    \n",
    "    Contains methods to pull sensor readings, compute readings via an ANN, add feeding values into the actuators.\n",
    "    \"\"\"\n",
    "    def __init__(self):\n",
    "        super().__init__()\n",
    "        self.input = \n",
    "        self.hidden = \n",
    "        self."
   ]
  },
  {
   "cell_type": "code",
   "execution_count": null,
   "metadata": {},
   "outputs": [],
   "source": [
    "class actuators():\n",
    "    \"\"\"\n",
    "    Actuators.\n",
    "    \n",
    "    Contain methods to convert actuator inputs into the displacements and behaviors of an agent.\n",
    "    \"\"\""
   ]
  },
  {
   "cell_type": "code",
   "execution_count": null,
   "metadata": {},
   "outputs": [],
   "source": []
  },
  {
   "cell_type": "code",
   "execution_count": null,
   "metadata": {},
   "outputs": [],
   "source": [
    "# First set up the figure, the axis, and the plot element we want to animate\n",
    "fig = plt.figure()\n",
    "ax = plt.axes(xlim=(0, 2), ylim=(-2, 2))\n",
    "line, = ax.plot([], [], lw=2)\n",
    "\n",
    "def init():\n",
    "    line.set_data([], [])\n",
    "    return line,\n",
    "\n",
    "# animation function.  This is called sequentially\n",
    "def animate(i):\n",
    "    x = np.linspace(0, 2, 1000)\n",
    "    y = np.sin(2 * np.pi * (x - 0.01 * i))\n",
    "    line.set_data(x, y)\n",
    "    return line,\n",
    "\n",
    "anim = animation.FuncAnimation(fig, animate, init_func=init,\n",
    "                               frames=200, interval=20, blit=True)\n",
    "\n",
    "# save the animation as an mp4.  This requires ffmpeg or mencoder to be\n",
    "# installed.  The extra_args ensure that the x264 codec is used, so that\n",
    "# the video can be embedded in html5.  You may need to adjust this for\n",
    "# your system: for more information, see\n",
    "# http://matplotlib.sourceforge.net/api/animation_api.html\n",
    "anim.save('basic_animation.mp4', fps=30, extra_args=['-vcodec', 'libx264'])\n",
    "\n",
    "plt.show()"
   ]
  },
  {
   "cell_type": "code",
   "execution_count": null,
   "metadata": {},
   "outputs": [],
   "source": [
    "# environment to IR sensor\n",
    "# - check for each sensor:\n",
    "# - if there is anything in the detection range\n",
    "# - the closest one that is occupied would determine the sensor reading\n",
    "# \n",
    "\n",
    "# environment to ground sensor\n",
    "# - check if is in the target area\n",
    "# - the closest one that is not \"empty\" would determine the sensor reading\n",
    "# \n",
    "\n",
    "# sensor to input\n",
    "# - scale the sensor to 0-1\n",
    "# -\n",
    "# input to output\n",
    "# - neural network\n",
    "# -\n",
    "# output to motor\n",
    "# - \n",
    "# - \n",
    "# motor to movement\n",
    "# - start simple now\n",
    "# - "
   ]
  },
  {
   "cell_type": "code",
   "execution_count": null,
   "metadata": {},
   "outputs": [],
   "source": [
    "work flow:\n",
    "\n",
    "1. ground sensors (one agent)\n",
    "2. get the simpler controler & motors to work\n",
    "3. get the plotting to work"
   ]
  }
 ],
 "metadata": {
  "kernelspec": {
   "display_name": "Python 3",
   "language": "python",
   "name": "python3"
  },
  "language_info": {
   "codemirror_mode": {
    "name": "ipython",
    "version": 3
   },
   "file_extension": ".py",
   "mimetype": "text/x-python",
   "name": "python",
   "nbconvert_exporter": "python",
   "pygments_lexer": "ipython3",
   "version": "3.6.1"
  }
 },
 "nbformat": 4,
 "nbformat_minor": 2
}
