{
 "cells": [
  {
   "cell_type": "code",
   "execution_count": 5,
   "metadata": {},
   "outputs": [],
   "source": [
    "import numpy as np\n",
    "from matplotlib import pyplot as plt\n",
    "from matplotlib import animation\n",
    "from matplotlib.patches import Circle"
   ]
  },
  {
   "cell_type": "code",
   "execution_count": 6,
   "metadata": {},
   "outputs": [],
   "source": [
    "# Environment\n",
    "\n",
    "# arena\n",
    "height = 270\n",
    "width = 270\n",
    "\n",
    "# target areas\n",
    "target1 = (80, 80)\n",
    "target2 = (190, 190)\n",
    "target_r = 45"
   ]
  },
  {
   "cell_type": "code",
   "execution_count": 32,
   "metadata": {},
   "outputs": [],
   "source": [
    "env = environment('square')\n",
    "env.set_targets(target_locs=[(80, 80), (190, 190)], r=45)"
   ]
  },
  {
   "cell_type": "code",
   "execution_count": 33,
   "metadata": {},
   "outputs": [
    {
     "ename": "TypeError",
     "evalue": "set_targets() missing 2 required positional arguments: 'target_locs' and 'r'",
     "output_type": "error",
     "traceback": [
      "\u001b[0;31m---------------------------------------------------------------------------\u001b[0m",
      "\u001b[0;31mTypeError\u001b[0m                                 Traceback (most recent call last)",
      "\u001b[0;32m<ipython-input-33-5684e11d19b3>\u001b[0m in \u001b[0;36m<module>\u001b[0;34m()\u001b[0m\n\u001b[0;32m----> 1\u001b[0;31m \u001b[0menv\u001b[0m\u001b[0;34m.\u001b[0m\u001b[0mset_targets\u001b[0m\u001b[0;34m(\u001b[0m\u001b[0;34m)\u001b[0m\u001b[0;34m\u001b[0m\u001b[0m\n\u001b[0m",
      "\u001b[0;31mTypeError\u001b[0m: set_targets() missing 2 required positional arguments: 'target_locs' and 'r'"
     ]
    }
   ],
   "source": [
    "env.set_targets()"
   ]
  },
  {
   "cell_type": "code",
   "execution_count": 34,
   "metadata": {},
   "outputs": [],
   "source": [
    "# Environment function\n",
    "class environment():\n",
    "    def __init__(self, name):\n",
    "        \"\"\"\n",
    "        Initialize the environment.\n",
    "        \n",
    "        name: str, the name for the current environment\n",
    "        Default height and width: 270\n",
    "        \"\"\"\n",
    "        super().__init__()\n",
    "        self.name = name\n",
    "        self.height = 270\n",
    "        self.width = 270\n",
    "        \n",
    "    def set_targets(self, target_locs, r):\n",
    "        \"\"\"\n",
    "        Set parameters for the target areas of the environment.\n",
    "        \n",
    "        target_locs: list of tuples, (x, y) coordinates for each target area\n",
    "        r: int, radius of the target areas\n",
    "        \"\"\"\n",
    "        self.targets = target_locs\n",
    "        self.target_r = r\n",
    "        \n",
    "    def show(self):\n",
    "        \"\"\"Plots out the current environment.\"\"\"\n",
    "        ax = plt.axes(xlim=(0, width), ylim=(0, height))\n",
    "        line, = ax.plot([], [])\n",
    "        \n",
    "        for target in self.targets:\n",
    "            ax.add_patch(Circle(target, self.target_r))\n",
    "            \n",
    "        ax.set_aspect('equal')"
   ]
  },
  {
   "cell_type": "code",
   "execution_count": null,
   "metadata": {},
   "outputs": [],
   "source": [
    "class agent():\n",
    "    def __init__(self, name):\n",
    "        \"\"\"\n",
    "        Initialize the environment.\n",
    "        \n",
    "        name: str, the name for the current environment\n",
    "        Default height and width: 270\n",
    "        \"\"\"\n",
    "        super().__init__()\n",
    "        self.name = name\n",
    "        self.r = 11\n",
    "    "
   ]
  },
  {
   "cell_type": "code",
   "execution_count": null,
   "metadata": {},
   "outputs": [],
   "source": [
    "class sensor():\n",
    "    \"\"\"\n",
    "    Sensor objects.\n",
    "    \n",
    "    Contains methods for getting sensor values, and feeding values into the controller\n",
    "    \n",
    "    \"\"\"\n",
    "    def __init__(self, name, modality):\n",
    "        \"\"\"\n",
    "        \n",
    "        \n",
    "        \"\"\"\n",
    "        if modality == \"IR\":\n",
    "            ...\n",
    "            "
   ]
  },
  {
   "cell_type": "code",
   "execution_count": null,
   "metadata": {},
   "outputs": [],
   "source": [
    "class controller():\n",
    "    \"\"\"\n",
    "    Controller objects.\n",
    "    \n",
    "    Contains methods to pull sensor readings, compute readings via an ANN, add feeding values into the actuators.\n",
    "    \"\"\""
   ]
  },
  {
   "cell_type": "code",
   "execution_count": null,
   "metadata": {},
   "outputs": [],
   "source": [
    "class actuators():\n",
    "    \"\"\"\n",
    "    Actuators.\n",
    "    \n",
    "    Contain methods to convert actuator inputs into the displacements and behaviors of an agent.\n",
    "    \"\"\""
   ]
  },
  {
   "cell_type": "code",
   "execution_count": null,
   "metadata": {},
   "outputs": [],
   "source": []
  },
  {
   "cell_type": "code",
   "execution_count": null,
   "metadata": {},
   "outputs": [],
   "source": [
    "# First set up the figure, the axis, and the plot element we want to animate\n",
    "fig = plt.figure()\n",
    "ax = plt.axes(xlim=(0, 2), ylim=(-2, 2))\n",
    "line, = ax.plot([], [], lw=2)\n",
    "\n",
    "def init():\n",
    "    line.set_data([], [])\n",
    "    return line,\n",
    "\n",
    "# animation function.  This is called sequentially\n",
    "def animate(i):\n",
    "    x = np.linspace(0, 2, 1000)\n",
    "    y = np.sin(2 * np.pi * (x - 0.01 * i))\n",
    "    line.set_data(x, y)\n",
    "    return line,\n",
    "\n",
    "anim = animation.FuncAnimation(fig, animate, init_func=init,\n",
    "                               frames=200, interval=20, blit=True)\n",
    "\n",
    "# save the animation as an mp4.  This requires ffmpeg or mencoder to be\n",
    "# installed.  The extra_args ensure that the x264 codec is used, so that\n",
    "# the video can be embedded in html5.  You may need to adjust this for\n",
    "# your system: for more information, see\n",
    "# http://matplotlib.sourceforge.net/api/animation_api.html\n",
    "anim.save('basic_animation.mp4', fps=30, extra_args=['-vcodec', 'libx264'])\n",
    "\n",
    "plt.show()"
   ]
  },
  {
   "cell_type": "code",
   "execution_count": null,
   "metadata": {},
   "outputs": [],
   "source": [
    "# environment to IR sensor\n",
    "# - check for each sensor:\n",
    "# - if there is anything in the range\n",
    "# - the closest one that is not \"empty\" would determine the sensor reading\n",
    "# \n",
    "\n",
    "# environment to ground sensor\n",
    "# - check if is in the target area\n",
    "# - the closest one that is not \"empty\" would determine the sensor reading\n",
    "# \n",
    "\n",
    "\n",
    "# sensor to input\n",
    "# - scale the sensor to 0-1\n",
    "# -\n",
    "# input to output\n",
    "# - neural network\n",
    "# -\n",
    "# output to motor\n",
    "# - \n",
    "# - \n",
    "# motor to movement\n",
    "# - start simple now\n",
    "# - "
   ]
  }
 ],
 "metadata": {
  "kernelspec": {
   "display_name": "Python 3",
   "language": "python",
   "name": "python3"
  },
  "language_info": {
   "codemirror_mode": {
    "name": "ipython",
    "version": 3
   },
   "file_extension": ".py",
   "mimetype": "text/x-python",
   "name": "python",
   "nbconvert_exporter": "python",
   "pygments_lexer": "ipython3",
   "version": "3.6.1"
  }
 },
 "nbformat": 4,
 "nbformat_minor": 2
}
